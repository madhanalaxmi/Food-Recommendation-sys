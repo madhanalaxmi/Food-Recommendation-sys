{
 "cells": [
  {
   "cell_type": "code",
   "execution_count": 2,
   "metadata": {},
   "outputs": [
    {
     "data": {
      "text/html": [
       "<div>\n",
       "<style scoped>\n",
       "    .dataframe tbody tr th:only-of-type {\n",
       "        vertical-align: middle;\n",
       "    }\n",
       "\n",
       "    .dataframe tbody tr th {\n",
       "        vertical-align: top;\n",
       "    }\n",
       "\n",
       "    .dataframe thead th {\n",
       "        text-align: right;\n",
       "    }\n",
       "</style>\n",
       "<table border=\"1\" class=\"dataframe\">\n",
       "  <thead>\n",
       "    <tr style=\"text-align: right;\">\n",
       "      <th></th>\n",
       "      <th>User_Id</th>\n",
       "      <th>Meal_Id</th>\n",
       "      <th>Rated</th>\n",
       "      <th>Liked</th>\n",
       "      <th>Searched</th>\n",
       "      <th>Purchased</th>\n",
       "      <th>Timestamp</th>\n",
       "    </tr>\n",
       "  </thead>\n",
       "  <tbody>\n",
       "    <tr>\n",
       "      <th>0</th>\n",
       "      <td>User_18</td>\n",
       "      <td>meal_id3</td>\n",
       "      <td>0</td>\n",
       "      <td>0</td>\n",
       "      <td>1</td>\n",
       "      <td>1</td>\n",
       "      <td>2020-03-02 00:06:48</td>\n",
       "    </tr>\n",
       "    <tr>\n",
       "      <th>1</th>\n",
       "      <td>User_82</td>\n",
       "      <td>meal_id6</td>\n",
       "      <td>0</td>\n",
       "      <td>1</td>\n",
       "      <td>0</td>\n",
       "      <td>0</td>\n",
       "      <td>2020-03-02 18:11:54</td>\n",
       "    </tr>\n",
       "    <tr>\n",
       "      <th>2</th>\n",
       "      <td>User_37</td>\n",
       "      <td>meal_id14</td>\n",
       "      <td>0</td>\n",
       "      <td>0</td>\n",
       "      <td>1</td>\n",
       "      <td>0</td>\n",
       "      <td>2020-03-03 00:13:36</td>\n",
       "    </tr>\n",
       "    <tr>\n",
       "      <th>3</th>\n",
       "      <td>User_16</td>\n",
       "      <td>meal_id18</td>\n",
       "      <td>1</td>\n",
       "      <td>0</td>\n",
       "      <td>0</td>\n",
       "      <td>0</td>\n",
       "      <td>2020-03-03 08:15:52</td>\n",
       "    </tr>\n",
       "    <tr>\n",
       "      <th>4</th>\n",
       "      <td>User_12</td>\n",
       "      <td>meal_id19</td>\n",
       "      <td>0</td>\n",
       "      <td>0</td>\n",
       "      <td>1</td>\n",
       "      <td>1</td>\n",
       "      <td>2020-03-03 20:19:16</td>\n",
       "    </tr>\n",
       "    <tr>\n",
       "      <th>5</th>\n",
       "      <td>User_84</td>\n",
       "      <td>meal_id24</td>\n",
       "      <td>0</td>\n",
       "      <td>1</td>\n",
       "      <td>0</td>\n",
       "      <td>1</td>\n",
       "      <td>2020-03-09 00:54:24</td>\n",
       "    </tr>\n",
       "    <tr>\n",
       "      <th>6</th>\n",
       "      <td>User_53</td>\n",
       "      <td>meal_id25</td>\n",
       "      <td>0</td>\n",
       "      <td>0</td>\n",
       "      <td>1</td>\n",
       "      <td>1</td>\n",
       "      <td>2020-03-12 05:15:56</td>\n",
       "    </tr>\n",
       "    <tr>\n",
       "      <th>7</th>\n",
       "      <td>User_48</td>\n",
       "      <td>meal_id26</td>\n",
       "      <td>0</td>\n",
       "      <td>1</td>\n",
       "      <td>0</td>\n",
       "      <td>0</td>\n",
       "      <td>2020-03-13 05:22:44</td>\n",
       "    </tr>\n",
       "    <tr>\n",
       "      <th>8</th>\n",
       "      <td>User_82</td>\n",
       "      <td>meal_id32</td>\n",
       "      <td>0</td>\n",
       "      <td>0</td>\n",
       "      <td>1</td>\n",
       "      <td>1</td>\n",
       "      <td>2020-03-14 13:31:48</td>\n",
       "    </tr>\n",
       "    <tr>\n",
       "      <th>9</th>\n",
       "      <td>User_49</td>\n",
       "      <td>meal_id29</td>\n",
       "      <td>0</td>\n",
       "      <td>1</td>\n",
       "      <td>0</td>\n",
       "      <td>1</td>\n",
       "      <td>2020-03-16 05:43:08</td>\n",
       "    </tr>\n",
       "  </tbody>\n",
       "</table>\n",
       "</div>"
      ],
      "text/plain": [
       "   User_Id    Meal_Id  Rated  Liked  Searched  Purchased            Timestamp\n",
       "0  User_18   meal_id3      0      0         1          1  2020-03-02 00:06:48\n",
       "1  User_82   meal_id6      0      1         0          0  2020-03-02 18:11:54\n",
       "2  User_37  meal_id14      0      0         1          0  2020-03-03 00:13:36\n",
       "3  User_16  meal_id18      1      0         0          0  2020-03-03 08:15:52\n",
       "4  User_12  meal_id19      0      0         1          1  2020-03-03 20:19:16\n",
       "5  User_84  meal_id24      0      1         0          1  2020-03-09 00:54:24\n",
       "6  User_53  meal_id25      0      0         1          1  2020-03-12 05:15:56\n",
       "7  User_48  meal_id26      0      1         0          0  2020-03-13 05:22:44\n",
       "8  User_82  meal_id32      0      0         1          1  2020-03-14 13:31:48\n",
       "9  User_49  meal_id29      0      1         0          1  2020-03-16 05:43:08"
      ]
     },
     "execution_count": 2,
     "metadata": {},
     "output_type": "execute_result"
    }
   ],
   "source": [
    "import pandas as pd\n",
    "import numpy as np\n",
    "import matplotlib.pyplot as plt\n",
    "import seaborn as sns\n",
    "from collections import Counter\n",
    "\n",
    "df = pd.read_csv('C:\\\\Users\\\\SUVARNA\\\\Food Recommendation\\\\Data Processing\\\\recent_activity.csv')\n",
    "df_data = pd.read_csv('C:\\\\Users\\SUVARNA\\\\Food Recommendation\\\\Data Processing\\\\dataset.csv')\n",
    "df.head(10)"
   ]
  },
  {
   "cell_type": "code",
   "execution_count": 3,
   "metadata": {},
   "outputs": [],
   "source": [
    "meal_ids = list(df.Meal_Id.unique())\n",
    "recent_data = df_data[df_data.Meal_Id.isin(meal_ids)][['Nutrient','catagory','Disease','Diet']].reset_index(drop=True)"
   ]
  },
  {
   "cell_type": "code",
   "execution_count": 6,
   "metadata": {},
   "outputs": [
    {
     "name": "stdout",
     "output_type": "stream",
     "text": [
      "calcium          19\n",
      "magnesium        14\n",
      "iron             13\n",
      "protien           8\n",
      "fiber             6\n",
      "vitamin_a         6\n",
      "carbohydrates     5\n",
      "selenium          4\n",
      "vitamin_d         3\n",
      "vitamin_e         1\n",
      "vitamin_c         1\n",
      "Name: Nutrient, dtype: int64\n"
     ]
    }
   ],
   "source": [
    "#plt.figure(figsize=(15,20))\n",
    "#plt.subplot(3,1,1)\n",
    "#plt.xticks(rotation=45)\n",
    "#plt.title('Nutrient,Disease and diet populrity  in Recent activities')\n",
    "print(recent_data.Nutrient.value_counts())\n",
    "\n",
    "#sns.countplot(recent_data.Nutrient)\n",
    "disease = []\n",
    "for i in range(recent_data.shape[0]):\n",
    "    for j in recent_data.loc[i,'Disease'].split():\n",
    "        disease.append(j)\n",
    "\n",
    "#plt.subplot(3,1,2)    \n",
    "#sns.countplot(disease)\n",
    "#plt.xticks(rotation=45)\n",
    "\n",
    "diet = []\n",
    "for i in range(recent_data.shape[0]):\n",
    "    for j in recent_data.loc[i,'Diet'].split():\n",
    "        diet.append(j)\n",
    "\n",
    "#plt.subplot(3,1,3)    \n",
    "#sns.countplot(diet)\n",
    "#plt.xticks(rotation=45)"
   ]
  },
  {
   "cell_type": "code",
   "execution_count": 5,
   "metadata": {},
   "outputs": [
    {
     "name": "stdout",
     "output_type": "stream",
     "text": [
      "mean occurance 9.777777777777779\n"
     ]
    },
    {
     "data": {
      "text/plain": [
       "calcium      27\n",
       "magnesium    16\n",
       "iron         15\n",
       "Name: Nutrient, dtype: int64"
      ]
     },
     "execution_count": 5,
     "metadata": {},
     "output_type": "execute_result"
    }
   ],
   "source": [
    "value_counts = recent_data.Nutrient.value_counts()\n",
    "m = recent_data.Nutrient.value_counts().mean()\n",
    "print('mean occurance',m)\n",
    "features = list(value_counts[recent_data.Nutrient.value_counts()>m].index)\n",
    "value_counts[recent_data.Nutrient.value_counts()>m]"
   ]
  },
  {
   "cell_type": "code",
   "execution_count": 6,
   "metadata": {},
   "outputs": [
    {
     "name": "stdout",
     "output_type": "stream",
     "text": [
      "mean occurance 33.18181818181818\n",
      "('heart_disease', 34)\n",
      "('goitre', 67)\n",
      "('pregnancy', 40)\n",
      "('diabeties', 60)\n",
      "('obesity', 41)\n"
     ]
    }
   ],
   "source": [
    "a = dict(Counter(disease))\n",
    "# a = sorted(a.items(),key = lambda k:k[1],reverse=True)\n",
    "print('mean occurance',np.mean(list(a.values())))\n",
    "m = np.mean(list(a.values()))\n",
    "for i in a.items():\n",
    "    if i[1]>m:\n",
    "        print(i)\n",
    "        features.append(i[0])"
   ]
  },
  {
   "cell_type": "code",
   "execution_count": 7,
   "metadata": {},
   "outputs": [
    {
     "name": "stdout",
     "output_type": "stream",
     "text": [
      "mean occurance 53.714285714285715\n",
      "('ketogenic_diet', 81)\n",
      "('high_protien_diet', 73)\n",
      "('low_fat_diet', 63)\n",
      "('vegan_diet', 64)\n",
      "('high_fiber_diet', 58)\n"
     ]
    }
   ],
   "source": [
    "a = dict(Counter(diet))\n",
    "# a = sorted(a.items(),key = lambda k:k[1],reverse=True)\n",
    "print('mean occurance',np.mean(list(a.values())))\n",
    "m = np.mean(list(a.values()))\n",
    "for i in a.items():\n",
    "    if i[1]>m:\n",
    "        print(i)\n",
    "        features.append(i[0])"
   ]
  },
  {
   "cell_type": "code",
   "execution_count": 8,
   "metadata": {},
   "outputs": [
    {
     "name": "stdout",
     "output_type": "stream",
     "text": [
      "['calcium', 'magnesium', 'iron', 'heart_disease', 'goitre', 'pregnancy', 'diabeties', 'obesity', 'ketogenic_diet', 'high_protien_diet', 'low_fat_diet', 'vegan_diet', 'high_fiber_diet']\n"
     ]
    }
   ],
   "source": [
    "print(features)"
   ]
  },
  {
   "cell_type": "code",
   "execution_count": null,
   "metadata": {},
   "outputs": [],
   "source": []
  }
 ],
 "metadata": {
  "kernelspec": {
   "display_name": "Python 3.9.1 64-bit",
   "language": "python",
   "name": "python3"
  },
  "language_info": {
   "codemirror_mode": {
    "name": "ipython",
    "version": 3
   },
   "file_extension": ".py",
   "mimetype": "text/x-python",
   "name": "python",
   "nbconvert_exporter": "python",
   "pygments_lexer": "ipython3",
   "version": "3.9.1"
  },
  "orig_nbformat": 4,
  "vscode": {
   "interpreter": {
    "hash": "fd058b4f5419a99f4eec1dd6cde86fbdaa90886b3e8acb9442a012168dab5119"
   }
  }
 },
 "nbformat": 4,
 "nbformat_minor": 2
}
